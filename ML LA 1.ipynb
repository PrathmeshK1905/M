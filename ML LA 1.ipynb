{
 "cells": [
  {
   "cell_type": "code",
   "execution_count": null,
   "id": "b3432b21",
   "metadata": {},
   "outputs": [],
   "source": [
    "import pandas as pd\n",
    "import numpy as np\n",
    "import matplotlib.pyplot as plt\n",
    "import seaborn as sns\n",
    "from sklearn.linear_model import LinearRegression\n",
    "from sklearn.ensemble import RandomForestRegressor\n",
    "from sklearn.metrics import accuracy_score,r2_score,mean_absolute_error,mean_squared_error\n",
    "from sklearn.model_selection import train_test_split\n",
    "from scipy.stats import zscore"
   ]
  },
  {
   "cell_type": "code",
   "execution_count": null,
   "id": "5fa7251f",
   "metadata": {},
   "outputs": [],
   "source": [
    "df = pd.read_csv(r'C:\\XPrathmesh\\College Stuff\\ML_Codes\\uber.csv')\n",
    "df"
   ]
  },
  {
   "cell_type": "code",
   "execution_count": null,
   "id": "cc6f3a9a",
   "metadata": {},
   "outputs": [],
   "source": [
    "df['pickup_datetime'] = pd.to_datetime(df['pickup_datetime'],errors='coerce')\n",
    "df = df.assign(\n",
    "    pickup_hour = df['pickup_datetime'].dt.hour,\n",
    "    pickup_day = df['pickup_datetime'].dt.day,\n",
    "    pickup_month = df['pickup_datetime'].dt.month,\n",
    "    pickup_dayofweek = df['pickup_datetime'].dt.dayofweek\n",
    ")"
   ]
  },
  {
   "cell_type": "code",
   "execution_count": null,
   "id": "2d78229e",
   "metadata": {},
   "outputs": [],
   "source": [
    "df = df.drop(['pickup_datetime','key'],axis=1)\n",
    "df = df.dropna()\n",
    "df"
   ]
  },
  {
   "cell_type": "code",
   "execution_count": null,
   "id": "64bc770f",
   "metadata": {},
   "outputs": [],
   "source": [
    "df = df[(np.abs(zscore(df[['fare_amount','pickup_longitude','pickup_latitude','dropoff_longitude',\n",
    "                           'dropoff_latitude']]))<3).all(axis=1)]"
   ]
  },
  {
   "cell_type": "code",
   "execution_count": null,
   "id": "2423d9c3",
   "metadata": {
    "scrolled": false
   },
   "outputs": [],
   "source": [
    "plt.figure(figsize=(10,6))\n",
    "sns.heatmap(df.corr(),annot=True, cmap='coolwarm')\n",
    "plt.title(\"Correlation matrix\")\n",
    "plt.show()"
   ]
  },
  {
   "cell_type": "code",
   "execution_count": null,
   "id": "01eae30c",
   "metadata": {},
   "outputs": [],
   "source": [
    "x = df.drop(['fare_amount'],axis=1)\n",
    "y = df['fare_amount']"
   ]
  },
  {
   "cell_type": "code",
   "execution_count": null,
   "id": "aa1b66a8",
   "metadata": {},
   "outputs": [],
   "source": [
    "x_train,x_test,y_train,y_test = train_test_split(x,y,test_size=0.3,random_state=42)"
   ]
  },
  {
   "cell_type": "code",
   "execution_count": null,
   "id": "424c44e6",
   "metadata": {},
   "outputs": [],
   "source": [
    "lr_model = LinearRegression().fit(x_train,y_train)\n",
    "y_pred_lr = lr_model.predict(x_test)"
   ]
  },
  {
   "cell_type": "code",
   "execution_count": null,
   "id": "baf03deb",
   "metadata": {},
   "outputs": [],
   "source": [
    "rf_model = RandomForestRegressor(n_estimators=100, random_state=42).fit(x_train,y_train)\n",
    "y_pred_rf = rf_model.predict(x_test)"
   ]
  },
  {
   "cell_type": "code",
   "execution_count": null,
   "id": "ced607f9",
   "metadata": {},
   "outputs": [],
   "source": [
    "print(\"\\nLinear Regression Performance:\")\n",
    "print(\"R2:\",r2_score(y_test,y_pred_lr))\n",
    "print(\"MAE:\",mean_absolute_error(y_test,y_pred_lr))\n",
    "print(\"MSE:\",mean_squared_error(y_test,y_pred_lr))\n",
    "print(\"RMSE:\",np.sqrt(mean_squared_error(y_test,y_pred_lr)))\n",
    "\n",
    "print(\"\\nRandom Forest Regression Performance:\")\n",
    "print(\"R2:\",r2_score(y_test,y_pred_rf))\n",
    "print(\"MAE:\",mean_absolute_error(y_test,y_pred_rf))\n",
    "print(\"MSE:\",mean_squared_error(y_test,y_pred_rf))\n",
    "print(\"RMSE:\",np.sqrt(mean_squared_error(y_test,y_pred_rf)))"
   ]
  },
  {
   "cell_type": "code",
   "execution_count": null,
   "id": "6172fab5",
   "metadata": {},
   "outputs": [],
   "source": []
  },
  {
   "cell_type": "code",
   "execution_count": null,
   "id": "12170ceb",
   "metadata": {},
   "outputs": [],
   "source": []
  },
  {
   "cell_type": "code",
   "execution_count": null,
   "id": "4f405554",
   "metadata": {},
   "outputs": [],
   "source": []
  },
  {
   "cell_type": "code",
   "execution_count": null,
   "id": "cacc05dc",
   "metadata": {},
   "outputs": [],
   "source": []
  },
  {
   "cell_type": "code",
   "execution_count": null,
   "id": "c361f6c0",
   "metadata": {},
   "outputs": [],
   "source": []
  },
  {
   "cell_type": "code",
   "execution_count": null,
   "id": "e634a2b0",
   "metadata": {},
   "outputs": [],
   "source": []
  },
  {
   "cell_type": "code",
   "execution_count": null,
   "id": "4cc08771",
   "metadata": {},
   "outputs": [],
   "source": []
  },
  {
   "cell_type": "code",
   "execution_count": null,
   "id": "80e92e37",
   "metadata": {},
   "outputs": [],
   "source": []
  },
  {
   "cell_type": "code",
   "execution_count": null,
   "id": "5fca020b",
   "metadata": {},
   "outputs": [],
   "source": []
  },
  {
   "cell_type": "code",
   "execution_count": null,
   "id": "f84a5139",
   "metadata": {},
   "outputs": [],
   "source": []
  },
  {
   "cell_type": "code",
   "execution_count": null,
   "id": "331b36b7",
   "metadata": {},
   "outputs": [],
   "source": [
    "import pandas as pd\n",
    "import numpy as np\n",
    "import matplotlib.pyplot as plt\n",
    "import seaborn as sns\n",
    "from scipy.stats import zscore\n",
    "from sklearn.model_selection import train_test_split\n",
    "from sklearn.linear_model import LinearRegression\n",
    "from sklearn.ensemble import RandomForestRegressor\n",
    "from sklearn.metrics import r2_score,mean_absolute_error,mean_squared_error\n"
   ]
  },
  {
   "cell_type": "code",
   "execution_count": null,
   "id": "2e41f7ed",
   "metadata": {},
   "outputs": [],
   "source": [
    "df = pd.read_csv(r'C:\\XPrathmesh\\College Stuff\\ML_Codes\\uber.csv')\n",
    "df"
   ]
  },
  {
   "cell_type": "code",
   "execution_count": null,
   "id": "592346d1",
   "metadata": {},
   "outputs": [],
   "source": [
    "df['pickup_datetime'] = pd.to_datetime(df['pickup_datetime'],errors='coerce')\n",
    "df = df.assign(\n",
    "        pickup_hour = df['pickup_datetime'].dt.hour,\n",
    "        pickup_day = df['pickup_datetime'].dt.day,\n",
    "        pickup_month = df['pickup_datetime'].dt.month,\n",
    "        pickup_dayofweek = df['pickup_datetime'].dt.dayofweek\n",
    ")\n",
    "df"
   ]
  },
  {
   "cell_type": "code",
   "execution_count": null,
   "id": "bba0ff42",
   "metadata": {
    "scrolled": true
   },
   "outputs": [],
   "source": [
    "df = df.drop(['pickup_datetime','key'],axis=1)\n",
    "df = df.dropna()\n",
    "df"
   ]
  },
  {
   "cell_type": "code",
   "execution_count": null,
   "id": "bcaf5225",
   "metadata": {},
   "outputs": [],
   "source": [
    "df = df[(np.abs(zscore(df[['fare_amount','pickup_longitude','pickup_latitude','dropoff_longitude','dropoff_latitude']]))<3).all(axis=1)]"
   ]
  },
  {
   "cell_type": "code",
   "execution_count": null,
   "id": "abc9b4d3",
   "metadata": {},
   "outputs": [],
   "source": [
    "\n",
    "plt.figure(figsize=(10,6))\n",
    "sns.heatmap(df.corr(),annot=True, cmap='coolwarm')\n",
    "plt.title(\"Correlation matrix\")\n",
    "plt.show()"
   ]
  },
  {
   "cell_type": "code",
   "execution_count": null,
   "id": "e055e6fe",
   "metadata": {},
   "outputs": [],
   "source": [
    "x = df.drop(['fare_amount'],axis=1)\n",
    "y = df['fare_amount']"
   ]
  },
  {
   "cell_type": "code",
   "execution_count": null,
   "id": "f5738fcc",
   "metadata": {},
   "outputs": [],
   "source": [
    "x_train,x_test,y_train,y_test = train_test_split(x,y,test_size=0.3,random_state=42)"
   ]
  },
  {
   "cell_type": "code",
   "execution_count": null,
   "id": "0778d829",
   "metadata": {},
   "outputs": [],
   "source": [
    "lr_model = LinearRegression().fit(x_train,y_train)\n",
    "y_pred_lr = lr_model.predict(x_test)"
   ]
  },
  {
   "cell_type": "code",
   "execution_count": null,
   "id": "d12efe25",
   "metadata": {},
   "outputs": [],
   "source": [
    "rf_model = RandomForestRegressor(n_estimators=100, random_state=42).fit(x_train,y_train)\n",
    "y_pred_rf = rf_model.predict(x_test)"
   ]
  },
  {
   "cell_type": "code",
   "execution_count": null,
   "id": "b7975e1c",
   "metadata": {},
   "outputs": [],
   "source": [
    "print(\"\\nLinear Regression Performance:\")\n",
    "print(\"R2:\",r2_score(y_test,y_pred_lr))\n",
    "print(\"MAE:\",mean_absolute_error(y_test,y_pred_lr))\n",
    "print(\"MSE:\",mean_squared_error(y_test,y_pred_lr))\n",
    "print(\"RMSE:\",np.sqrt(mean_squared_error(y_test,y_pred_lr)))\n",
    "\n",
    "print(\"\\nRandom Forest Regression Performance:\")\n",
    "print(\"R2:\",r2_score(y_test,y_pred_rf))\n",
    "print(\"MAE:\",mean_absolute_error(y_test,y_pred_rf))\n",
    "print(\"MSE:\",mean_squared_error(y_test,y_pred_rf))\n",
    "print(\"RMSE:\",np.sqrt(mean_squared_error(y_test,y_pred_rf)))"
   ]
  },
  {
   "cell_type": "code",
   "execution_count": null,
   "id": "f997dca0",
   "metadata": {},
   "outputs": [],
   "source": []
  }
 ],
 "metadata": {
  "kernelspec": {
   "display_name": "Python 3 (ipykernel)",
   "language": "python",
   "name": "python3"
  },
  "language_info": {
   "codemirror_mode": {
    "name": "ipython",
    "version": 3
   },
   "file_extension": ".py",
   "mimetype": "text/x-python",
   "name": "python",
   "nbconvert_exporter": "python",
   "pygments_lexer": "ipython3",
   "version": "3.9.7"
  }
 },
 "nbformat": 4,
 "nbformat_minor": 5
}
