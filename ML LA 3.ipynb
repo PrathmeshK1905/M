{
 "cells": [
  {
   "cell_type": "code",
   "execution_count": 84,
   "id": "95f369da-c28c-4104-963d-65043ec012ff",
   "metadata": {},
   "outputs": [
    {
     "name": "stdout",
     "output_type": "stream",
     "text": [
      "Loaded dataset\n",
      "2\n",
      "3\n",
      "4\n",
      "5\n",
      "6\n",
      "Training model with relu activation function...\n"
     ]
    },
    {
     "name": "stderr",
     "output_type": "stream",
     "text": [
      "D:\\AS\\anaconda-jupyternotebook\\Lib\\site-packages\\keras\\src\\layers\\core\\dense.py:87: UserWarning: Do not pass an `input_shape`/`input_dim` argument to a layer. When using Sequential models, prefer using an `Input(shape)` object as the first layer in the model instead.\n",
      "  super().__init__(activity_regularizer=activity_regularizer, **kwargs)\n"
     ]
    },
    {
     "name": "stdout",
     "output_type": "stream",
     "text": [
      "\u001b[1m63/63\u001b[0m \u001b[32m━━━━━━━━━━━━━━━━━━━━\u001b[0m\u001b[37m\u001b[0m \u001b[1m0s\u001b[0m 3ms/step\n",
      "Training model with tanh activation function...\n"
     ]
    },
    {
     "name": "stderr",
     "output_type": "stream",
     "text": [
      "D:\\AS\\anaconda-jupyternotebook\\Lib\\site-packages\\keras\\src\\layers\\core\\dense.py:87: UserWarning: Do not pass an `input_shape`/`input_dim` argument to a layer. When using Sequential models, prefer using an `Input(shape)` object as the first layer in the model instead.\n",
      "  super().__init__(activity_regularizer=activity_regularizer, **kwargs)\n"
     ]
    },
    {
     "name": "stdout",
     "output_type": "stream",
     "text": [
      "\u001b[1m63/63\u001b[0m \u001b[32m━━━━━━━━━━━━━━━━━━━━\u001b[0m\u001b[37m\u001b[0m \u001b[1m1s\u001b[0m 7ms/step\n",
      "Training model with sigmoid activation function...\n"
     ]
    },
    {
     "name": "stderr",
     "output_type": "stream",
     "text": [
      "D:\\AS\\anaconda-jupyternotebook\\Lib\\site-packages\\keras\\src\\layers\\core\\dense.py:87: UserWarning: Do not pass an `input_shape`/`input_dim` argument to a layer. When using Sequential models, prefer using an `Input(shape)` object as the first layer in the model instead.\n",
      "  super().__init__(activity_regularizer=activity_regularizer, **kwargs)\n"
     ]
    },
    {
     "name": "stdout",
     "output_type": "stream",
     "text": [
      "\u001b[1m63/63\u001b[0m \u001b[32m━━━━━━━━━━━━━━━━━━━━\u001b[0m\u001b[37m\u001b[0m \u001b[1m0s\u001b[0m 2ms/step\n",
      "\n",
      "Results for relu activation function:\n",
      "Accuracy: 0.8575\n",
      "Confusion Matrix:\n",
      "[[1545   62]\n",
      " [ 223  170]]\n",
      "\n",
      "Results for tanh activation function:\n",
      "Accuracy: 0.8615\n",
      "Confusion Matrix:\n",
      "[[1539   68]\n",
      " [ 209  184]]\n",
      "\n",
      "Results for sigmoid activation function:\n",
      "Accuracy: 0.8280\n",
      "Confusion Matrix:\n",
      "[[1548   59]\n",
      " [ 285  108]]\n"
     ]
    }
   ],
   "source": [
    "#import the required libraries \n",
    "\n",
    "import pandas as pd\n",
    "import numpy as np\n",
    "from sklearn.model_selection import train_test_split\n",
    "from sklearn.preprocessing import StandardScaler \n",
    "from sklearn.metrics import accuracy_score,confusion_matrix\n",
    "import tensorflow as tf\n",
    "from tensorflow.keras.models import Sequential \n",
    "from tensorflow.keras.layers import Dense\n",
    "\n",
    "\n",
    "#Load the dataset\n",
    "data = pd.read_csv(r'C:\\Users\\Mahajan\\Desktop\\All Codes\\ML\\Churn_Modelling.csv')\n",
    "print(\"Loaded dataset\")\n",
    "\n",
    "#removing the unnecessary coloumns\n",
    "data = data.drop(columns=['RowNumber','Surname', 'CustomerId'])\n",
    "print('2')\n",
    "\n",
    "#convert categorial variables to numeric variables by using one hot encoding\n",
    "data=pd.get_dummies(data,columns=['Geography','Gender'],drop_first = True)\n",
    "print('3')\n",
    "\n",
    "#define features and traget variables\n",
    "x = data.drop(columns=['Exited'])\n",
    "y = data['Exited']\n",
    "print(\"4\")\n",
    "\n",
    "#train and test model\n",
    "x_train,x_test,y_train,y_test=train_test_split(x,y,test_size=0.2,random_state=42)\n",
    "print('5')\n",
    "\n",
    "#normalize the data using Standard scaler\n",
    "scaler=StandardScaler()\n",
    "x_train=scaler.fit_transform(x_train)\n",
    "x_test=scaler.transform(x_test)\n",
    "print(\"6\")\n",
    "\n",
    "# Step 4: Build the neural network model\n",
    "def build_model(activation_func):\n",
    "    model = Sequential()\n",
    "    # First hidden layer with 16 neurons and specified activation function\n",
    "    model.add(Dense(16, input_dim=x_train.shape[1], activation=activation_func))\n",
    "    # Second hidden layer with 8 neurons and specified activation function\n",
    "    model.add(Dense(8, activation=activation_func))\n",
    "    # Output layer with 1 neuron (for binary classification) and sigmoid activation\n",
    "    model.add(Dense(1, activation='sigmoid'))\n",
    "\n",
    "    # Compile the model with Adam optimizer and binary crossentropy loss\n",
    "    model.compile(optimizer='adam', loss='binary_crossentropy', metrics=['accuracy'])\n",
    "    return model\n",
    "\n",
    "# Step 5: Train and evaluate the model with different activation functions\n",
    "activations = ['relu', 'tanh', 'sigmoid']\n",
    "results = {}\n",
    "\n",
    "for activation in activations:\n",
    "    print(f\"Training model with {activation} activation function...\")\n",
    "    model = build_model(activation)\n",
    "\n",
    "    # Train the model for 10 epochs with a batch size of 32\n",
    "    model.fit(x_train, y_train, epochs=10, batch_size=32, verbose=0, validation_data=(x_test, y_test))\n",
    "\n",
    "    # Make predictions on the test set\n",
    "    y_pred = (model.predict(x_test) > 0.5).astype(int)\n",
    "\n",
    "    # Evaluate the model's performance\n",
    "    accuracy = accuracy_score(y_test, y_pred)\n",
    "    cm = confusion_matrix(y_test, y_pred)\n",
    "\n",
    "    # Store the accuracy and confusion matrix for each activation function\n",
    "    results[activation] = {\n",
    "        \"Accuracy\": accuracy,\n",
    "        \"Confusion Matrix\": cm\n",
    "    }\n",
    "\n",
    "# Step 6: Print the results for each activation function\n",
    "for activation in activations:\n",
    "    print(f\"\\nResults for {activation} activation function:\")\n",
    "    print(f\"Accuracy: {results[activation]['Accuracy']:.4f}\")\n",
    "    print(\"Confusion Matrix:\")\n",
    "    print(results[activation]['Confusion Matrix'])\n"
   ]
  },
  {
   "cell_type": "code",
   "execution_count": null,
   "id": "3352cf5c-6d32-4052-af8f-122b71221f89",
   "metadata": {},
   "outputs": [],
   "source": []
  }
 ],
 "metadata": {
  "kernelspec": {
   "display_name": "Python 3 (ipykernel)",
   "language": "python",
   "name": "python3"
  },
  "language_info": {
   "codemirror_mode": {
    "name": "ipython",
    "version": 3
   },
   "file_extension": ".py",
   "mimetype": "text/x-python",
   "name": "python",
   "nbconvert_exporter": "python",
   "pygments_lexer": "ipython3",
   "version": "3.12.4"
  }
 },
 "nbformat": 4,
 "nbformat_minor": 5
}
